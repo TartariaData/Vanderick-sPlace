{
 "cells": [
  {
   "cell_type": "code",
   "execution_count": 1,
   "id": "1e982668-1c73-4ef0-bc64-7a1ed3b279de",
   "metadata": {},
   "outputs": [],
   "source": [
    "import math"
   ]
  },
  {
   "cell_type": "code",
   "execution_count": 2,
   "id": "7e477a64-a72c-44b5-b897-10b53c712451",
   "metadata": {},
   "outputs": [],
   "source": [
    "def tan_minus_x(x):\n",
    "    return math.tan(x) + x"
   ]
  },
  {
   "cell_type": "code",
   "execution_count": 3,
   "id": "7e4aacbd-cc3c-492f-a684-20402b4aa0f3",
   "metadata": {},
   "outputs": [],
   "source": [
    "def bisection_method(func, a, b, tol, max_iter):\n",
    "    if func(a)*func(b) >=0:\n",
    "        print (\"El metodo de la biseccion no garantiza convergencia.\")\n",
    "        return None\n",
    "        iter_count = 0\n",
    "        solutions = []\n",
    "        while (b - a) /2 > tol and iter_count < max_iter:\n",
    "            c = (a + b) / 2\n",
    "            if func(c) == 0:\n",
    "                solutions.append(c)\n",
    "                break\n",
    "            elif func(c)*func(a)<0:\n",
    "                b=c\n",
    "            else:\n",
    "                a=c\n",
    "            iter_count+=1\n",
    "        return solutions\n",
    "            "
   ]
  },
  {
   "cell_type": "code",
   "execution_count": 4,
   "id": "7656a9bc-0541-4bfc-af42-e8378c907cb0",
   "metadata": {},
   "outputs": [],
   "source": [
    "def find_all_solutions(func, interval, tol, max_iter):\n",
    "    a, b = interval\n",
    "    solutions = []\n",
    "    while a < b:\n",
    "        subinterval_solutions = bisection_method(func, a, b, tol, max_iter)\n",
    "        solutions.extend(subinterval_solutions)\n",
    "        if len(subinterval_solutions) == 0:\n",
    "            break\n",
    "        a = subinterval_solutions[-1] + tol  # Move to the next subinterval\n",
    "    return solutions"
   ]
  },
  {
   "cell_type": "code",
   "execution_count": 5,
   "id": "f7b62704-af6f-41d5-adcc-4e2e4da03cc0",
   "metadata": {},
   "outputs": [],
   "source": [
    "interval = (0, 2 * math.pi)\n",
    "tolerance = 1e-6\n",
    "max_iterations = 1000\n"
   ]
  },
  {
   "cell_type": "code",
   "execution_count": 6,
   "id": "3c959e1f-46ef-4222-9b22-5ed09e2b8424",
   "metadata": {},
   "outputs": [
    {
     "name": "stdout",
     "output_type": "stream",
     "text": [
      "El metodo de la biseccion no garantiza convergencia.\n"
     ]
    },
    {
     "ename": "TypeError",
     "evalue": "'NoneType' object is not iterable",
     "output_type": "error",
     "traceback": [
      "\u001b[1;31m---------------------------------------------------------------------------\u001b[0m",
      "\u001b[1;31mTypeError\u001b[0m                                 Traceback (most recent call last)",
      "Cell \u001b[1;32mIn[6], line 1\u001b[0m\n\u001b[1;32m----> 1\u001b[0m solutions \u001b[38;5;241m=\u001b[39m find_all_solutions(tan_minus_x, interval, tolerance, max_iterations)\n\u001b[0;32m      2\u001b[0m \u001b[38;5;28mprint\u001b[39m(\u001b[38;5;124m\"\u001b[39m\u001b[38;5;124mLas soluciones aproximadas son:\u001b[39m\u001b[38;5;124m\"\u001b[39m, solutions)\n",
      "Cell \u001b[1;32mIn[4], line 6\u001b[0m, in \u001b[0;36mfind_all_solutions\u001b[1;34m(func, interval, tol, max_iter)\u001b[0m\n\u001b[0;32m      4\u001b[0m \u001b[38;5;28;01mwhile\u001b[39;00m a \u001b[38;5;241m<\u001b[39m b:\n\u001b[0;32m      5\u001b[0m     subinterval_solutions \u001b[38;5;241m=\u001b[39m bisection_method(func, a, b, tol, max_iter)\n\u001b[1;32m----> 6\u001b[0m     solutions\u001b[38;5;241m.\u001b[39mextend(subinterval_solutions)\n\u001b[0;32m      7\u001b[0m     \u001b[38;5;28;01mif\u001b[39;00m \u001b[38;5;28mlen\u001b[39m(subinterval_solutions) \u001b[38;5;241m==\u001b[39m \u001b[38;5;241m0\u001b[39m:\n\u001b[0;32m      8\u001b[0m         \u001b[38;5;28;01mbreak\u001b[39;00m\n",
      "\u001b[1;31mTypeError\u001b[0m: 'NoneType' object is not iterable"
     ]
    }
   ],
   "source": [
    "solutions = find_all_solutions(tan_minus_x, interval, tolerance, max_iterations)\n",
    "print(\"Las soluciones aproximadas son:\", solutions)"
   ]
  },
  {
   "cell_type": "code",
   "execution_count": 7,
   "id": "b4c31ca7-fc1a-4896-8ed6-53de83729bd6",
   "metadata": {},
   "outputs": [
    {
     "name": "stdout",
     "output_type": "stream",
     "text": [
      "El método de la bisección no garantiza convergencia.\n"
     ]
    },
    {
     "ename": "TypeError",
     "evalue": "'NoneType' object is not iterable",
     "output_type": "error",
     "traceback": [
      "\u001b[1;31m---------------------------------------------------------------------------\u001b[0m",
      "\u001b[1;31mTypeError\u001b[0m                                 Traceback (most recent call last)",
      "Cell \u001b[1;32mIn[7], line 39\u001b[0m\n\u001b[0;32m     36\u001b[0m tolerance \u001b[38;5;241m=\u001b[39m \u001b[38;5;241m1e-6\u001b[39m\n\u001b[0;32m     37\u001b[0m max_iterations \u001b[38;5;241m=\u001b[39m \u001b[38;5;241m1000\u001b[39m\n\u001b[1;32m---> 39\u001b[0m solutions \u001b[38;5;241m=\u001b[39m find_all_solutions(tan_minus_x, interval, tolerance, max_iterations)\n\u001b[0;32m     40\u001b[0m \u001b[38;5;28mprint\u001b[39m(\u001b[38;5;124m\"\u001b[39m\u001b[38;5;124mLas soluciones aproximadas son:\u001b[39m\u001b[38;5;124m\"\u001b[39m, solutions)\n",
      "Cell \u001b[1;32mIn[7], line 29\u001b[0m, in \u001b[0;36mfind_all_solutions\u001b[1;34m(func, interval, tol, max_iter)\u001b[0m\n\u001b[0;32m     27\u001b[0m \u001b[38;5;28;01mwhile\u001b[39;00m a \u001b[38;5;241m<\u001b[39m b:\n\u001b[0;32m     28\u001b[0m     subinterval_solutions \u001b[38;5;241m=\u001b[39m bisection_method(func, a, b, tol, max_iter)\n\u001b[1;32m---> 29\u001b[0m     solutions\u001b[38;5;241m.\u001b[39mextend(subinterval_solutions)\n\u001b[0;32m     30\u001b[0m     \u001b[38;5;28;01mif\u001b[39;00m \u001b[38;5;28mlen\u001b[39m(subinterval_solutions) \u001b[38;5;241m==\u001b[39m \u001b[38;5;241m0\u001b[39m:\n\u001b[0;32m     31\u001b[0m         \u001b[38;5;28;01mbreak\u001b[39;00m\n",
      "\u001b[1;31mTypeError\u001b[0m: 'NoneType' object is not iterable"
     ]
    }
   ],
   "source": [
    "import math\n",
    "\n",
    "def tan_minus_x(x):\n",
    "    return math.tan(x) + x\n",
    "\n",
    "def bisection_method(func, a, b, tol, max_iter):\n",
    "    if func(a) * func(b) >= 0:\n",
    "        print(\"El método de la bisección no garantiza convergencia.\")\n",
    "        return None\n",
    "    iter_count = 0\n",
    "    solutions = []\n",
    "    while (b - a) / 2 > tol and iter_count < max_iter:\n",
    "        c = (a + b) / 2\n",
    "        if func(c) == 0:\n",
    "            solutions.append(c)\n",
    "            break\n",
    "        elif func(c) * func(a) < 0:\n",
    "            b = c\n",
    "        else:\n",
    "            a = c\n",
    "        iter_count += 1\n",
    "    return solutions\n",
    "\n",
    "def find_all_solutions(func, interval, tol, max_iter):\n",
    "    a, b = interval\n",
    "    solutions = []\n",
    "    while a < b:\n",
    "        subinterval_solutions = bisection_method(func, a, b, tol, max_iter)\n",
    "        solutions.extend(subinterval_solutions)\n",
    "        if len(subinterval_solutions) == 0:\n",
    "            break\n",
    "        a = subinterval_solutions[-1] + tol  # Move to the next subinterval\n",
    "    return solutions\n",
    "\n",
    "interval = (0, 2 * math.pi)\n",
    "tolerance = 1e-6\n",
    "max_iterations = 1000\n",
    "\n",
    "solutions = find_all_solutions(tan_minus_x, interval, tolerance, max_iterations)\n",
    "print(\"Las soluciones aproximadas son:\", solutions)\n"
   ]
  },
  {
   "cell_type": "code",
   "execution_count": null,
   "id": "fc9c36b9-35d1-43e7-afc0-21d5b91ee971",
   "metadata": {},
   "outputs": [],
   "source": []
  }
 ],
 "metadata": {
  "kernelspec": {
   "display_name": "Python 3 (ipykernel)",
   "language": "python",
   "name": "python3"
  },
  "language_info": {
   "codemirror_mode": {
    "name": "ipython",
    "version": 3
   },
   "file_extension": ".py",
   "mimetype": "text/x-python",
   "name": "python",
   "nbconvert_exporter": "python",
   "pygments_lexer": "ipython3",
   "version": "3.11.8"
  }
 },
 "nbformat": 4,
 "nbformat_minor": 5
}
